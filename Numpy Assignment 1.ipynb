{
 "cells": [
  {
   "cell_type": "markdown",
   "id": "4f45a815",
   "metadata": {},
   "source": [
    "# Ques 1. Create a null vector of size 10 but the fifth value which is 1."
   ]
  },
  {
   "cell_type": "code",
   "execution_count": 2,
   "id": "56baec2b",
   "metadata": {},
   "outputs": [
    {
     "name": "stdout",
     "output_type": "stream",
     "text": [
      "[0 0 0 0 1 0 0 0 0 0]\n"
     ]
    }
   ],
   "source": [
    "import numpy as np\n",
    "a=np.zeros(10,dtype=int)\n",
    "a[4]=1\n",
    "print(a)"
   ]
  },
  {
   "cell_type": "markdown",
   "id": "15033556",
   "metadata": {},
   "source": [
    "# Ques 2. Create a vector with values ranging from 10 to 49."
   ]
  },
  {
   "cell_type": "code",
   "execution_count": 3,
   "id": "6751ee3f",
   "metadata": {},
   "outputs": [
    {
     "name": "stdout",
     "output_type": "stream",
     "text": [
      "[10 11 12 13 14 15 16 17 18 19 20 21 22 23 24 25 26 27 28 29 30 31 32 33\n",
      " 34 35 36 37 38 39 40 41 42 43 44 45 46 47 48]\n"
     ]
    }
   ],
   "source": [
    "b=np.arange(10,49)\n",
    "print(b)"
   ]
  },
  {
   "cell_type": "markdown",
   "id": "b551664d",
   "metadata": {},
   "source": [
    "# Ques 3. Create a 3x3 matrix with values ranging from 0 to 8"
   ]
  },
  {
   "cell_type": "code",
   "execution_count": 5,
   "id": "3118ba57",
   "metadata": {},
   "outputs": [
    {
     "name": "stdout",
     "output_type": "stream",
     "text": [
      "[[0 1 2]\n",
      " [3 4 5]\n",
      " [6 7 8]]\n"
     ]
    }
   ],
   "source": [
    "c = np.arange(9).reshape(3,3)\n",
    "print(c)"
   ]
  },
  {
   "cell_type": "code",
   "execution_count": 7,
   "id": "cd47788b",
   "metadata": {},
   "outputs": [
    {
     "name": "stdout",
     "output_type": "stream",
     "text": [
      "[[0 8 7]\n",
      " [5 4 4]\n",
      " [4 1 4]]\n"
     ]
    }
   ],
   "source": [
    "# Alternate\n",
    "d=np.random.randint(0,9,(3,3))\n",
    "print(d)"
   ]
  },
  {
   "cell_type": "markdown",
   "id": "d20f7e69",
   "metadata": {},
   "source": [
    "# Ques 4. Find indices of non-zero elements from [1,2,0,0,4,0]"
   ]
  },
  {
   "cell_type": "code",
   "execution_count": 21,
   "id": "7b7e87f3",
   "metadata": {},
   "outputs": [
    {
     "name": "stdout",
     "output_type": "stream",
     "text": [
      "Original array is:  [1 2 0 0 4 0]\n",
      "Indices of non-zero elements are:  (array([0, 1, 4], dtype=int64),)\n"
     ]
    }
   ],
   "source": [
    "s=np.array([1,2,0,0,4,0])\n",
    "print(\"Original array is: \",s)\n",
    "non_zero=np.nonzero(s)\n",
    "print(\"Indices of non-zero elements are: \",non_zero)"
   ]
  },
  {
   "cell_type": "markdown",
   "id": "65c37b29",
   "metadata": {},
   "source": [
    "# Ques 5. Create a 10x10 array with random values and find the minimum and maximum values."
   ]
  },
  {
   "cell_type": "code",
   "execution_count": 11,
   "id": "11ab4eb8",
   "metadata": {},
   "outputs": [
    {
     "name": "stdout",
     "output_type": "stream",
     "text": [
      "Original Array : \n",
      " [[5.41739643e-01 6.38585306e-01 6.43505056e-01 9.45298457e-01\n",
      "  6.49059289e-01 8.59126603e-01 8.90045503e-01 3.17011474e-02\n",
      "  6.83166940e-01 2.45523732e-01]\n",
      " [4.62058069e-01 2.25919636e-01 8.25157674e-01 4.94719458e-01\n",
      "  9.06765239e-01 9.93235073e-01 5.11901930e-01 4.63921876e-01\n",
      "  2.17005401e-01 3.77676469e-01]\n",
      " [9.77271567e-01 9.58503626e-01 7.93791492e-01 5.22603941e-01\n",
      "  2.97502626e-01 3.86820011e-01 1.49666599e-01 3.06238336e-01\n",
      "  5.74075005e-01 2.93018268e-01]\n",
      " [7.24819110e-01 5.64296164e-01 1.17708810e-01 7.66019976e-01\n",
      "  9.87921579e-01 5.93833725e-01 9.84697006e-01 5.60866747e-04\n",
      "  6.64125726e-01 1.48383798e-01]\n",
      " [1.59633670e-01 9.48567751e-02 2.47247695e-01 1.79433555e-01\n",
      "  3.16674948e-02 8.72648384e-01 1.99188920e-01 5.07551035e-01\n",
      "  8.63042761e-01 2.12507671e-01]\n",
      " [2.10041595e-01 4.72680075e-01 3.44462516e-01 8.99567714e-03\n",
      "  9.33827978e-01 3.87423699e-01 9.26039986e-01 4.37593244e-01\n",
      "  9.95996425e-01 3.76364034e-01]\n",
      " [3.68973485e-01 9.66432145e-01 6.33711329e-01 1.16294682e-01\n",
      "  6.63229757e-01 5.73832583e-01 2.65583756e-01 9.60412310e-01\n",
      "  7.71035705e-01 1.81538514e-01]\n",
      " [6.08590946e-01 1.06025716e-01 2.31930455e-01 5.36019506e-01\n",
      "  8.86664239e-01 6.22067911e-01 7.33887942e-01 7.29244390e-01\n",
      "  2.10939052e-01 3.46831027e-01]\n",
      " [1.48151565e-01 5.95334044e-02 1.24226120e-02 7.37584997e-01\n",
      "  4.93780033e-01 1.23723002e-01 4.30040855e-01 7.43845572e-01\n",
      "  8.03901256e-01 9.29669404e-01]\n",
      " [5.04113995e-01 3.34219876e-01 9.02129590e-01 7.72886850e-01\n",
      "  5.89910196e-01 1.10551218e-02 4.23513314e-01 8.32560205e-01\n",
      "  8.88518584e-02 7.45719148e-01]]\n",
      "\n",
      " Minimum Value :  0.000560866747437383\n",
      "\n",
      " Maximum Value :  0.9959964254815274\n"
     ]
    }
   ],
   "source": [
    "b = np.random.rand(10,10)\n",
    "print(\"Original Array : \\n\", b)\n",
    "bmin, bmax = b.min(), b.max()\n",
    "print(\"\\n Minimum Value : \" ,bmin,)\n",
    "print(\"\\n Maximum Value : \" ,bmax,)"
   ]
  },
  {
   "cell_type": "markdown",
   "id": "96896326",
   "metadata": {},
   "source": [
    "# Ques 6. Create a random vector of size 30 and find the mean value."
   ]
  },
  {
   "cell_type": "code",
   "execution_count": 12,
   "id": "510118a5",
   "metadata": {},
   "outputs": [
    {
     "name": "stdout",
     "output_type": "stream",
     "text": [
      "Original array : \n",
      " [0.30259776 0.35100743 0.77378226 0.70410538 0.54385931 0.68005605\n",
      " 0.98350554 0.83141045 0.46063805 0.98009951 0.3335592  0.3252936\n",
      " 0.68316048 0.81681069 0.23614576 0.92161411 0.51369054 0.32230181\n",
      " 0.25497105 0.43054107 0.57074059 0.56796591 0.91231598 0.01870782\n",
      " 0.71827685 0.85493042 0.96563326 0.92323923 0.09737467 0.66604438]\n",
      "Mean Value : \n",
      " 0.5914793047711259\n"
     ]
    }
   ],
   "source": [
    "c = np.random.rand(30)\n",
    "print(\"Original array : \\n\", c)\n",
    "print(\"Mean Value : \\n\", np.mean(c))\n"
   ]
  },
  {
   "cell_type": "code",
   "execution_count": null,
   "id": "179841c3",
   "metadata": {},
   "outputs": [],
   "source": []
  }
 ],
 "metadata": {
  "kernelspec": {
   "display_name": "Python 3 (ipykernel)",
   "language": "python",
   "name": "python3"
  },
  "language_info": {
   "codemirror_mode": {
    "name": "ipython",
    "version": 3
   },
   "file_extension": ".py",
   "mimetype": "text/x-python",
   "name": "python",
   "nbconvert_exporter": "python",
   "pygments_lexer": "ipython3",
   "version": "3.10.1"
  }
 },
 "nbformat": 4,
 "nbformat_minor": 5
}
