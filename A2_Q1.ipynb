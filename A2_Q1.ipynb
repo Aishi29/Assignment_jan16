{
 "cells": [
  {
   "cell_type": "markdown",
   "id": "6d921489",
   "metadata": {},
   "source": [
    "## List and Tuple"
   ]
  },
  {
   "cell_type": "code",
   "execution_count": 1,
   "id": "e8be1388",
   "metadata": {},
   "outputs": [
    {
     "name": "stdout",
     "output_type": "stream",
     "text": [
      "[(1, 1), (2, 4), (3, 9), (4, 16), (5, 25)]\n"
     ]
    }
   ],
   "source": [
    "L1=[]\n",
    "L2=[]\n",
    "#creating list L1\n",
    "for i in range(1,6):\n",
    "    L1.append(i)\n",
    "    \n",
    "#creating list of tuples\n",
    "for i in L1:\n",
    "    t=(i,i*i)\n",
    "    L2.append(t)\n",
    "    \n",
    "print(L2)"
   ]
  },
  {
   "cell_type": "code",
   "execution_count": null,
   "id": "5a1ec70c",
   "metadata": {},
   "outputs": [],
   "source": []
  }
 ],
 "metadata": {
  "kernelspec": {
   "display_name": "Python 3 (ipykernel)",
   "language": "python",
   "name": "python3"
  },
  "language_info": {
   "codemirror_mode": {
    "name": "ipython",
    "version": 3
   },
   "file_extension": ".py",
   "mimetype": "text/x-python",
   "name": "python",
   "nbconvert_exporter": "python",
   "pygments_lexer": "ipython3",
   "version": "3.10.1"
  }
 },
 "nbformat": 4,
 "nbformat_minor": 5
}
