{
 "cells": [
  {
   "cell_type": "markdown",
   "id": "d0b51af8",
   "metadata": {},
   "source": [
    "## String inside Function"
   ]
  },
  {
   "cell_type": "code",
   "execution_count": 1,
   "id": "61da41e6",
   "metadata": {},
   "outputs": [
    {
     "name": "stdout",
     "output_type": "stream",
     "text": [
      "Enter string: 1234abcd\n",
      "Reversed String is:  dcba4321\n"
     ]
    }
   ],
   "source": [
    "def rev_str(s):\n",
    "    rev=s[::-1]\n",
    "    print(\"Reversed String is: \",rev)\n",
    "    return rev\n",
    "\n",
    "s=input('Enter string: ')\n",
    "s2=rev_str(s)"
   ]
  },
  {
   "cell_type": "code",
   "execution_count": 2,
   "id": "e0a014e5",
   "metadata": {},
   "outputs": [
    {
     "name": "stdout",
     "output_type": "stream",
     "text": [
      "Enter string: Learning Python from Edyoda.\n",
      "Reversed String is:  .adoydE morf nohtyP gninraeL\n"
     ]
    }
   ],
   "source": [
    "s=input('Enter string: ')\n",
    "s2=rev_str(s)"
   ]
  },
  {
   "cell_type": "code",
   "execution_count": null,
   "id": "bcbb04a0",
   "metadata": {},
   "outputs": [],
   "source": []
  }
 ],
 "metadata": {
  "kernelspec": {
   "display_name": "Python 3 (ipykernel)",
   "language": "python",
   "name": "python3"
  },
  "language_info": {
   "codemirror_mode": {
    "name": "ipython",
    "version": 3
   },
   "file_extension": ".py",
   "mimetype": "text/x-python",
   "name": "python",
   "nbconvert_exporter": "python",
   "pygments_lexer": "ipython3",
   "version": "3.10.1"
  }
 },
 "nbformat": 4,
 "nbformat_minor": 5
}
