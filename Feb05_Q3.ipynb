{
 "cells": [
  {
   "cell_type": "markdown",
   "id": "531b1f09",
   "metadata": {},
   "source": [
    "## Squares from list"
   ]
  },
  {
   "cell_type": "code",
   "execution_count": 1,
   "id": "729de442",
   "metadata": {},
   "outputs": [
    {
     "name": "stdout",
     "output_type": "stream",
     "text": [
      "output:  [16, 25, 4, 81]\n"
     ]
    }
   ],
   "source": [
    "def square(x):\n",
    "    return x*x\n",
    "\n",
    "l1=[4,5,2,9]\n",
    "l2=list(map(square,l1))\n",
    "print('output: ',l2)"
   ]
  },
  {
   "cell_type": "markdown",
   "id": "5d9bd5d8",
   "metadata": {},
   "source": [
    "### List Input"
   ]
  },
  {
   "cell_type": "code",
   "execution_count": 2,
   "id": "30dc2e0e",
   "metadata": {},
   "outputs": [
    {
     "name": "stdout",
     "output_type": "stream",
     "text": [
      "Enter no. of elements of list: 4\n",
      "Enter elements of list\n",
      "4\n",
      "5\n",
      "2\n",
      "9\n",
      "sample list:  [4, 5, 2, 9]\n",
      "output:  [16, 25, 4, 81]\n"
     ]
    }
   ],
   "source": [
    "def square(x):\n",
    "    return x*x\n",
    "\n",
    "n=int(input('Enter no. of elements of list: '))\n",
    "l1=[]\n",
    "print('Enter elements of list')\n",
    "for i in range(n):\n",
    "    element=int(input())\n",
    "    l1.append(element)\n",
    "\n",
    "l2=list(map(square,l1))\n",
    "print('sample list: ',l1)\n",
    "print('output: ',l2)"
   ]
  },
  {
   "cell_type": "markdown",
   "id": "24b4e7b5",
   "metadata": {},
   "source": [
    "## Alternate"
   ]
  },
  {
   "cell_type": "code",
   "execution_count": 3,
   "id": "cec283cc",
   "metadata": {},
   "outputs": [
    {
     "name": "stdout",
     "output_type": "stream",
     "text": [
      "[16, 25, 4, 81]\n"
     ]
    }
   ],
   "source": [
    "l=[4,5,2,9]\n",
    "l2=list(map(lambda x:x*x,l))\n",
    "print(l2)"
   ]
  },
  {
   "cell_type": "code",
   "execution_count": null,
   "id": "df476d2f",
   "metadata": {},
   "outputs": [],
   "source": []
  }
 ],
 "metadata": {
  "kernelspec": {
   "display_name": "Python 3 (ipykernel)",
   "language": "python",
   "name": "python3"
  },
  "language_info": {
   "codemirror_mode": {
    "name": "ipython",
    "version": 3
   },
   "file_extension": ".py",
   "mimetype": "text/x-python",
   "name": "python",
   "nbconvert_exporter": "python",
   "pygments_lexer": "ipython3",
   "version": "3.10.1"
  }
 },
 "nbformat": 4,
 "nbformat_minor": 5
}
