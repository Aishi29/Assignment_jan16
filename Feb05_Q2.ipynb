{
 "cells": [
  {
   "cell_type": "markdown",
   "id": "bebe0d36",
   "metadata": {},
   "source": [
    "### Triple of list numbers"
   ]
  },
  {
   "cell_type": "code",
   "execution_count": 1,
   "id": "f474ea8a",
   "metadata": {},
   "outputs": [
    {
     "name": "stdout",
     "output_type": "stream",
     "text": [
      "[3, 6, 9, 12, 15, 18, 21]\n"
     ]
    }
   ],
   "source": [
    "def triple(x):\n",
    "    return x*3\n",
    "\n",
    "l1=[1,2,3,4,5,6,7]\n",
    "l2=list(map(triple,l1))\n",
    "print(l2)"
   ]
  },
  {
   "cell_type": "markdown",
   "id": "18e45e22",
   "metadata": {},
   "source": [
    "### List Input"
   ]
  },
  {
   "cell_type": "code",
   "execution_count": 2,
   "id": "03a48ed1",
   "metadata": {},
   "outputs": [
    {
     "name": "stdout",
     "output_type": "stream",
     "text": [
      "Enter no. of elements of list: 7\n",
      "Enter elements of list\n",
      "1\n",
      "2\n",
      "3\n",
      "4\n",
      "5\n",
      "6\n",
      "7\n",
      "sample list:  [1, 2, 3, 4, 5, 6, 7]\n",
      "output:  [3, 6, 9, 12, 15, 18, 21]\n"
     ]
    }
   ],
   "source": [
    "def triple(x):\n",
    "    return x*3\n",
    "\n",
    "n=int(input('Enter no. of elements of list: '))\n",
    "l1=[]\n",
    "print('Enter elements of list')\n",
    "for i in range(n):\n",
    "    element=int(input())\n",
    "    l1.append(element)\n",
    "\n",
    "l2=list(map(triple,l1))\n",
    "print('sample list: ',l1)\n",
    "print('output: ',l2)"
   ]
  },
  {
   "cell_type": "code",
   "execution_count": null,
   "id": "714a66ec",
   "metadata": {},
   "outputs": [],
   "source": []
  }
 ],
 "metadata": {
  "kernelspec": {
   "display_name": "Python 3 (ipykernel)",
   "language": "python",
   "name": "python3"
  },
  "language_info": {
   "codemirror_mode": {
    "name": "ipython",
    "version": 3
   },
   "file_extension": ".py",
   "mimetype": "text/x-python",
   "name": "python",
   "nbconvert_exporter": "python",
   "pygments_lexer": "ipython3",
   "version": "3.10.1"
  }
 },
 "nbformat": 4,
 "nbformat_minor": 5
}
