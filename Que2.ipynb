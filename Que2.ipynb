{
 "cells": [
  {
   "cell_type": "markdown",
   "id": "b2ace0e1",
   "metadata": {},
   "source": [
    "## Reverse"
   ]
  },
  {
   "cell_type": "code",
   "execution_count": 1,
   "id": "92fa68dc",
   "metadata": {},
   "outputs": [
    {
     "name": "stdout",
     "output_type": "stream",
     "text": [
      "Enter a String Edyoda\n",
      "adoydE\n"
     ]
    }
   ],
   "source": [
    "a=input(\"Enter a String \")\n",
    "b=\"\"\n",
    "for i in a:\n",
    "    b=i+b\n",
    "print(b)"
   ]
  },
  {
   "cell_type": "markdown",
   "id": "94db0fcd",
   "metadata": {},
   "source": [
    "### Alternate Method"
   ]
  },
  {
   "cell_type": "code",
   "execution_count": 1,
   "id": "500d5c7c",
   "metadata": {},
   "outputs": [
    {
     "name": "stdout",
     "output_type": "stream",
     "text": [
      "Enter string Edyoda\n",
      "adoydE\n"
     ]
    }
   ],
   "source": [
    "s=input(\"Enter string \")\n",
    "r=s[::-1]\n",
    "print(r)"
   ]
  },
  {
   "cell_type": "code",
   "execution_count": null,
   "id": "de346fa2",
   "metadata": {},
   "outputs": [],
   "source": []
  }
 ],
 "metadata": {
  "kernelspec": {
   "display_name": "Python 3 (ipykernel)",
   "language": "python",
   "name": "python3"
  },
  "language_info": {
   "codemirror_mode": {
    "name": "ipython",
    "version": 3
   },
   "file_extension": ".py",
   "mimetype": "text/x-python",
   "name": "python",
   "nbconvert_exporter": "python",
   "pygments_lexer": "ipython3",
   "version": "3.10.1"
  }
 },
 "nbformat": 4,
 "nbformat_minor": 5
}
