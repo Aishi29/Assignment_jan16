{
 "cells": [
  {
   "cell_type": "code",
   "execution_count": 1,
   "id": "5280f0ce",
   "metadata": {},
   "outputs": [],
   "source": [
    "import pandas as pd\n",
    "import numpy as np\n",
    "import matplotlib.pyplot as plt\n",
    "%matplotlib inline\n",
    "import seaborn as sns\n"
   ]
  },
  {
   "cell_type": "code",
   "execution_count": 2,
   "id": "38beae20",
   "metadata": {},
   "outputs": [
    {
     "data": {
      "text/html": [
       "<div>\n",
       "<style scoped>\n",
       "    .dataframe tbody tr th:only-of-type {\n",
       "        vertical-align: middle;\n",
       "    }\n",
       "\n",
       "    .dataframe tbody tr th {\n",
       "        vertical-align: top;\n",
       "    }\n",
       "\n",
       "    .dataframe thead th {\n",
       "        text-align: right;\n",
       "    }\n",
       "</style>\n",
       "<table border=\"1\" class=\"dataframe\">\n",
       "  <thead>\n",
       "    <tr style=\"text-align: right;\">\n",
       "      <th></th>\n",
       "      <th>Sqft</th>\n",
       "      <th>Floor</th>\n",
       "      <th>TotalFloor</th>\n",
       "      <th>Bedroom</th>\n",
       "      <th>Living.Room</th>\n",
       "      <th>Bathroom</th>\n",
       "      <th>Price</th>\n",
       "    </tr>\n",
       "  </thead>\n",
       "  <tbody>\n",
       "    <tr>\n",
       "      <th>1</th>\n",
       "      <td>1177.698</td>\n",
       "      <td>2</td>\n",
       "      <td>7</td>\n",
       "      <td>2</td>\n",
       "      <td>2</td>\n",
       "      <td>2</td>\n",
       "      <td>62000</td>\n",
       "    </tr>\n",
       "    <tr>\n",
       "      <th>2</th>\n",
       "      <td>2134.800</td>\n",
       "      <td>5</td>\n",
       "      <td>7</td>\n",
       "      <td>4</td>\n",
       "      <td>2</td>\n",
       "      <td>2</td>\n",
       "      <td>78000</td>\n",
       "    </tr>\n",
       "    <tr>\n",
       "      <th>3</th>\n",
       "      <td>1138.560</td>\n",
       "      <td>5</td>\n",
       "      <td>7</td>\n",
       "      <td>2</td>\n",
       "      <td>2</td>\n",
       "      <td>1</td>\n",
       "      <td>58000</td>\n",
       "    </tr>\n",
       "    <tr>\n",
       "      <th>4</th>\n",
       "      <td>1458.780</td>\n",
       "      <td>2</td>\n",
       "      <td>7</td>\n",
       "      <td>3</td>\n",
       "      <td>2</td>\n",
       "      <td>2</td>\n",
       "      <td>45000</td>\n",
       "    </tr>\n",
       "    <tr>\n",
       "      <th>5</th>\n",
       "      <td>967.776</td>\n",
       "      <td>11</td>\n",
       "      <td>14</td>\n",
       "      <td>3</td>\n",
       "      <td>2</td>\n",
       "      <td>2</td>\n",
       "      <td>45000</td>\n",
       "    </tr>\n",
       "  </tbody>\n",
       "</table>\n",
       "</div>"
      ],
      "text/plain": [
       "       Sqft  Floor  TotalFloor  Bedroom  Living.Room  Bathroom  Price\n",
       "1  1177.698      2           7        2            2         2  62000\n",
       "2  2134.800      5           7        4            2         2  78000\n",
       "3  1138.560      5           7        2            2         1  58000\n",
       "4  1458.780      2           7        3            2         2  45000\n",
       "5   967.776     11          14        3            2         2  45000"
      ]
     },
     "execution_count": 2,
     "metadata": {},
     "output_type": "execute_result"
    }
   ],
   "source": [
    "data=pd.read_csv('House_Rental.csv',index_col='Unnamed: 0')\n",
    "data.head()"
   ]
  },
  {
   "cell_type": "code",
   "execution_count": 3,
   "id": "e826200e",
   "metadata": {},
   "outputs": [
    {
     "data": {
      "text/plain": [
       "(645, 7)"
      ]
     },
     "execution_count": 3,
     "metadata": {},
     "output_type": "execute_result"
    }
   ],
   "source": [
    "data.shape"
   ]
  },
  {
   "cell_type": "code",
   "execution_count": 4,
   "id": "b548bbe7",
   "metadata": {},
   "outputs": [
    {
     "data": {
      "text/html": [
       "<div>\n",
       "<style scoped>\n",
       "    .dataframe tbody tr th:only-of-type {\n",
       "        vertical-align: middle;\n",
       "    }\n",
       "\n",
       "    .dataframe tbody tr th {\n",
       "        vertical-align: top;\n",
       "    }\n",
       "\n",
       "    .dataframe thead th {\n",
       "        text-align: right;\n",
       "    }\n",
       "</style>\n",
       "<table border=\"1\" class=\"dataframe\">\n",
       "  <thead>\n",
       "    <tr style=\"text-align: right;\">\n",
       "      <th></th>\n",
       "      <th>Sqft</th>\n",
       "      <th>Floor</th>\n",
       "      <th>TotalFloor</th>\n",
       "      <th>Bedroom</th>\n",
       "      <th>Living.Room</th>\n",
       "      <th>Bathroom</th>\n",
       "      <th>Price</th>\n",
       "    </tr>\n",
       "  </thead>\n",
       "  <tbody>\n",
       "    <tr>\n",
       "      <th>count</th>\n",
       "      <td>645.000000</td>\n",
       "      <td>645.000000</td>\n",
       "      <td>645.000000</td>\n",
       "      <td>645.000000</td>\n",
       "      <td>645.000000</td>\n",
       "      <td>645.000000</td>\n",
       "      <td>645.000000</td>\n",
       "    </tr>\n",
       "    <tr>\n",
       "      <th>mean</th>\n",
       "      <td>1527.656260</td>\n",
       "      <td>5.939535</td>\n",
       "      <td>10.855814</td>\n",
       "      <td>2.837209</td>\n",
       "      <td>1.813953</td>\n",
       "      <td>1.810853</td>\n",
       "      <td>61986.823256</td>\n",
       "    </tr>\n",
       "    <tr>\n",
       "      <th>std</th>\n",
       "      <td>767.386531</td>\n",
       "      <td>3.884721</td>\n",
       "      <td>4.996208</td>\n",
       "      <td>1.010740</td>\n",
       "      <td>0.462364</td>\n",
       "      <td>0.683574</td>\n",
       "      <td>35635.091007</td>\n",
       "    </tr>\n",
       "    <tr>\n",
       "      <th>min</th>\n",
       "      <td>359.358000</td>\n",
       "      <td>1.000000</td>\n",
       "      <td>1.000000</td>\n",
       "      <td>1.000000</td>\n",
       "      <td>0.000000</td>\n",
       "      <td>0.000000</td>\n",
       "      <td>6100.000000</td>\n",
       "    </tr>\n",
       "    <tr>\n",
       "      <th>25%</th>\n",
       "      <td>925.080000</td>\n",
       "      <td>3.000000</td>\n",
       "      <td>7.000000</td>\n",
       "      <td>2.000000</td>\n",
       "      <td>2.000000</td>\n",
       "      <td>1.000000</td>\n",
       "      <td>39000.000000</td>\n",
       "    </tr>\n",
       "    <tr>\n",
       "      <th>50%</th>\n",
       "      <td>1423.200000</td>\n",
       "      <td>5.000000</td>\n",
       "      <td>12.000000</td>\n",
       "      <td>3.000000</td>\n",
       "      <td>2.000000</td>\n",
       "      <td>2.000000</td>\n",
       "      <td>50000.000000</td>\n",
       "    </tr>\n",
       "    <tr>\n",
       "      <th>75%</th>\n",
       "      <td>1892.856000</td>\n",
       "      <td>8.000000</td>\n",
       "      <td>14.000000</td>\n",
       "      <td>4.000000</td>\n",
       "      <td>2.000000</td>\n",
       "      <td>2.000000</td>\n",
       "      <td>75000.000000</td>\n",
       "    </tr>\n",
       "    <tr>\n",
       "      <th>max</th>\n",
       "      <td>5856.468000</td>\n",
       "      <td>22.000000</td>\n",
       "      <td>38.000000</td>\n",
       "      <td>7.000000</td>\n",
       "      <td>4.000000</td>\n",
       "      <td>5.000000</td>\n",
       "      <td>250000.000000</td>\n",
       "    </tr>\n",
       "  </tbody>\n",
       "</table>\n",
       "</div>"
      ],
      "text/plain": [
       "              Sqft       Floor  TotalFloor     Bedroom  Living.Room  \\\n",
       "count   645.000000  645.000000  645.000000  645.000000   645.000000   \n",
       "mean   1527.656260    5.939535   10.855814    2.837209     1.813953   \n",
       "std     767.386531    3.884721    4.996208    1.010740     0.462364   \n",
       "min     359.358000    1.000000    1.000000    1.000000     0.000000   \n",
       "25%     925.080000    3.000000    7.000000    2.000000     2.000000   \n",
       "50%    1423.200000    5.000000   12.000000    3.000000     2.000000   \n",
       "75%    1892.856000    8.000000   14.000000    4.000000     2.000000   \n",
       "max    5856.468000   22.000000   38.000000    7.000000     4.000000   \n",
       "\n",
       "         Bathroom          Price  \n",
       "count  645.000000     645.000000  \n",
       "mean     1.810853   61986.823256  \n",
       "std      0.683574   35635.091007  \n",
       "min      0.000000    6100.000000  \n",
       "25%      1.000000   39000.000000  \n",
       "50%      2.000000   50000.000000  \n",
       "75%      2.000000   75000.000000  \n",
       "max      5.000000  250000.000000  "
      ]
     },
     "execution_count": 4,
     "metadata": {},
     "output_type": "execute_result"
    }
   ],
   "source": [
    "data.describe()"
   ]
  },
  {
   "cell_type": "code",
   "execution_count": 5,
   "id": "38afa340",
   "metadata": {},
   "outputs": [
    {
     "name": "stdout",
     "output_type": "stream",
     "text": [
      "<class 'pandas.core.frame.DataFrame'>\n",
      "Int64Index: 645 entries, 1 to 648\n",
      "Data columns (total 7 columns):\n",
      " #   Column       Non-Null Count  Dtype  \n",
      "---  ------       --------------  -----  \n",
      " 0   Sqft         645 non-null    float64\n",
      " 1   Floor        645 non-null    int64  \n",
      " 2   TotalFloor   645 non-null    int64  \n",
      " 3   Bedroom      645 non-null    int64  \n",
      " 4   Living.Room  645 non-null    int64  \n",
      " 5   Bathroom     645 non-null    int64  \n",
      " 6   Price        645 non-null    int64  \n",
      "dtypes: float64(1), int64(6)\n",
      "memory usage: 40.3 KB\n"
     ]
    }
   ],
   "source": [
    "data.info()"
   ]
  },
  {
   "cell_type": "code",
   "execution_count": 6,
   "id": "53bc1f37",
   "metadata": {},
   "outputs": [
    {
     "data": {
      "text/html": [
       "<div>\n",
       "<style scoped>\n",
       "    .dataframe tbody tr th:only-of-type {\n",
       "        vertical-align: middle;\n",
       "    }\n",
       "\n",
       "    .dataframe tbody tr th {\n",
       "        vertical-align: top;\n",
       "    }\n",
       "\n",
       "    .dataframe thead th {\n",
       "        text-align: right;\n",
       "    }\n",
       "</style>\n",
       "<table border=\"1\" class=\"dataframe\">\n",
       "  <thead>\n",
       "    <tr style=\"text-align: right;\">\n",
       "      <th></th>\n",
       "      <th>Sqft</th>\n",
       "      <th>Floor</th>\n",
       "      <th>TotalFloor</th>\n",
       "      <th>Bedroom</th>\n",
       "      <th>Living.Room</th>\n",
       "      <th>Bathroom</th>\n",
       "      <th>Price</th>\n",
       "    </tr>\n",
       "  </thead>\n",
       "  <tbody>\n",
       "    <tr>\n",
       "      <th>Sqft</th>\n",
       "      <td>1.000000</td>\n",
       "      <td>0.143249</td>\n",
       "      <td>0.304515</td>\n",
       "      <td>0.615608</td>\n",
       "      <td>0.455940</td>\n",
       "      <td>0.728869</td>\n",
       "      <td>0.825514</td>\n",
       "    </tr>\n",
       "    <tr>\n",
       "      <th>Floor</th>\n",
       "      <td>0.143249</td>\n",
       "      <td>1.000000</td>\n",
       "      <td>0.564221</td>\n",
       "      <td>0.023986</td>\n",
       "      <td>-0.023563</td>\n",
       "      <td>0.099772</td>\n",
       "      <td>0.244553</td>\n",
       "    </tr>\n",
       "    <tr>\n",
       "      <th>TotalFloor</th>\n",
       "      <td>0.304515</td>\n",
       "      <td>0.564221</td>\n",
       "      <td>1.000000</td>\n",
       "      <td>0.067298</td>\n",
       "      <td>0.029373</td>\n",
       "      <td>0.146132</td>\n",
       "      <td>0.333631</td>\n",
       "    </tr>\n",
       "    <tr>\n",
       "      <th>Bedroom</th>\n",
       "      <td>0.615608</td>\n",
       "      <td>0.023986</td>\n",
       "      <td>0.067298</td>\n",
       "      <td>1.000000</td>\n",
       "      <td>0.526532</td>\n",
       "      <td>0.643083</td>\n",
       "      <td>0.467059</td>\n",
       "    </tr>\n",
       "    <tr>\n",
       "      <th>Living.Room</th>\n",
       "      <td>0.455940</td>\n",
       "      <td>-0.023563</td>\n",
       "      <td>0.029373</td>\n",
       "      <td>0.526532</td>\n",
       "      <td>1.000000</td>\n",
       "      <td>0.546826</td>\n",
       "      <td>0.328788</td>\n",
       "    </tr>\n",
       "    <tr>\n",
       "      <th>Bathroom</th>\n",
       "      <td>0.728869</td>\n",
       "      <td>0.099772</td>\n",
       "      <td>0.146132</td>\n",
       "      <td>0.643083</td>\n",
       "      <td>0.546826</td>\n",
       "      <td>1.000000</td>\n",
       "      <td>0.605542</td>\n",
       "    </tr>\n",
       "    <tr>\n",
       "      <th>Price</th>\n",
       "      <td>0.825514</td>\n",
       "      <td>0.244553</td>\n",
       "      <td>0.333631</td>\n",
       "      <td>0.467059</td>\n",
       "      <td>0.328788</td>\n",
       "      <td>0.605542</td>\n",
       "      <td>1.000000</td>\n",
       "    </tr>\n",
       "  </tbody>\n",
       "</table>\n",
       "</div>"
      ],
      "text/plain": [
       "                 Sqft     Floor  TotalFloor   Bedroom  Living.Room  Bathroom  \\\n",
       "Sqft         1.000000  0.143249    0.304515  0.615608     0.455940  0.728869   \n",
       "Floor        0.143249  1.000000    0.564221  0.023986    -0.023563  0.099772   \n",
       "TotalFloor   0.304515  0.564221    1.000000  0.067298     0.029373  0.146132   \n",
       "Bedroom      0.615608  0.023986    0.067298  1.000000     0.526532  0.643083   \n",
       "Living.Room  0.455940 -0.023563    0.029373  0.526532     1.000000  0.546826   \n",
       "Bathroom     0.728869  0.099772    0.146132  0.643083     0.546826  1.000000   \n",
       "Price        0.825514  0.244553    0.333631  0.467059     0.328788  0.605542   \n",
       "\n",
       "                Price  \n",
       "Sqft         0.825514  \n",
       "Floor        0.244553  \n",
       "TotalFloor   0.333631  \n",
       "Bedroom      0.467059  \n",
       "Living.Room  0.328788  \n",
       "Bathroom     0.605542  \n",
       "Price        1.000000  "
      ]
     },
     "execution_count": 6,
     "metadata": {},
     "output_type": "execute_result"
    }
   ],
   "source": [
    "data.corr()"
   ]
  },
  {
   "cell_type": "code",
   "execution_count": 7,
   "id": "44adcdab",
   "metadata": {},
   "outputs": [
    {
     "data": {
      "text/plain": [
       "Sqft           0\n",
       "Floor          0\n",
       "TotalFloor     0\n",
       "Bedroom        0\n",
       "Living.Room    0\n",
       "Bathroom       0\n",
       "Price          0\n",
       "dtype: int64"
      ]
     },
     "execution_count": 7,
     "metadata": {},
     "output_type": "execute_result"
    }
   ],
   "source": [
    "#checking null values\n",
    "pd.isnull(data).sum()"
   ]
  },
  {
   "cell_type": "code",
   "execution_count": 8,
   "id": "30714ecd",
   "metadata": {},
   "outputs": [
    {
     "data": {
      "text/plain": [
       "<AxesSubplot:>"
      ]
     },
     "execution_count": 8,
     "metadata": {},
     "output_type": "execute_result"
    },
    {
     "data": {
      "image/png": "[encoded data removed]",
      "text/plain": [
       "<Figure size 720x576 with 2 Axes>"
      ]
     },
     "metadata": {
      "needs_background": "light"
     },
     "output_type": "display_data"
    }
   ],
   "source": [
    "# Heat map visual\n",
    "plt.figure(figsize=(10,8))\n",
    "sns.heatmap(data.corr(),annot=True)"
   ]
  },
  {
   "cell_type": "code",
   "execution_count": 10,
   "id": "b01496e0",
   "metadata": {
    "scrolled": true
   },
   "outputs": [
    {
     "data": {
      "image/png": "[encoded data removed]",
      "text/plain": [
       "<Figure size 720x576 with 1 Axes>"
      ]
     },
     "metadata": {
      "needs_background": "light"
     },
     "output_type": "display_data"
    }
   ],
   "source": [
    "# Price acc to sqft of bedrooms\n",
    "plt.figure(figsize=(10,8))\n",
    "plt.bar(data['Bedroom'],data[\"Price\"])\n",
    "plt.xlabel(\"Bedroom\")\n",
    "plt.ylabel(\"Price\")\n",
    "plt.show()"
   ]
  },
  {
   "cell_type": "code",
   "execution_count": 11,
   "id": "72b9d116",
   "metadata": {},
   "outputs": [
    {
     "data": {
      "image/png": "[encoded data removed]",
      "text/plain": [
       "<Figure size 720x576 with 1 Axes>"
      ]
     },
     "metadata": {
      "needs_background": "light"
     },
     "output_type": "display_data"
    }
   ],
   "source": [
    "plt.figure(figsize=(10,8))\n",
    "plt.bar(data[\"TotalFloor\"],data[\"Price\"])\n",
    "plt.xlabel(\"TotalFloor\")\n",
    "plt.ylabel(\"Price\")\n",
    "plt.show()"
   ]
  },
  {
   "cell_type": "code",
   "execution_count": 12,
   "id": "11933b08",
   "metadata": {},
   "outputs": [
    {
     "data": {
      "image/png": "[encoded data removed]",
      "text/plain": [
       "<Figure size 720x576 with 1 Axes>"
      ]
     },
     "metadata": {
      "needs_background": "light"
     },
     "output_type": "display_data"
    }
   ],
   "source": [
    "plt.figure(figsize=(10,8))\n",
    "plt.bar(data[\"Living.Room\"],data[\"Price\"])\n",
    "plt.xlabel(\"Living Room\")\n",
    "plt.ylabel(\"Price\")\n",
    "plt.grid()\n",
    "plt.show()"
   ]
  },
  {
   "cell_type": "code",
   "execution_count": null,
   "id": "b473ea08",
   "metadata": {},
   "outputs": [],
   "source": []
  }
 ],
 "metadata": {
  "kernelspec": {
   "display_name": "Python 3 (ipykernel)",
   "language": "python",
   "name": "python3"
  },
  "language_info": {
   "codemirror_mode": {
    "name": "ipython",
    "version": 3
   },
   "file_extension": ".py",
   "mimetype": "text/x-python",
   "name": "python",
   "nbconvert_exporter": "python",
   "pygments_lexer": "ipython3",
   "version": "3.10.1"
  }
 },
 "nbformat": 4,
 "nbformat_minor": 5
}
